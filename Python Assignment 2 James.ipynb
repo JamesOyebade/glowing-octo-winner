{
 "cells": [
  {
   "cell_type": "code",
   "execution_count": null,
   "metadata": {},
   "outputs": [],
   "source": [
    "1. Write a program that prints the numbers from 1 to 100. But for multiples of three print “Multiples of 3” instead of the number and for the multiples of five print “Multiples of 5”. For numbers which are multiples of both three and five print “Multiples of 3 and 5”.\n",
    "\n",
    "2. Write a program that prints out the sum of values between 1 and 100.\n",
    "\n",
    "3. Write a Python program to convert temperatures to and from celsius, fahrenheit. [Formula : c/5 = f-32/9 [ where c = temperature in celsius and f = temperature in fahrenheit]\n",
    "\n"
   ]
  },
  {
   "cell_type": "markdown",
   "metadata": {},
   "source": [
    "QUESTION1"
   ]
  },
  {
   "cell_type": "code",
   "execution_count": 14,
   "metadata": {},
   "outputs": [
    {
     "name": "stdout",
     "output_type": "stream",
     "text": [
      "1\n",
      "2\n",
      "multiples of 3\n",
      "4\n",
      "multiples of 5\n",
      "multiples of 3\n",
      "7\n",
      "8\n",
      "multiples of 3\n",
      "multiples of 5\n",
      "11\n",
      "multiples of 3\n",
      "13\n",
      "14\n",
      "multiples of 3\n",
      "16\n",
      "17\n",
      "multiples of 3\n",
      "19\n",
      "multiples of 5\n",
      "multiples of 3\n",
      "22\n",
      "23\n",
      "multiples of 3\n",
      "multiples of 5\n",
      "26\n",
      "multiples of 3\n",
      "28\n",
      "29\n",
      "multiples of 3\n",
      "31\n",
      "32\n",
      "multiples of 3\n",
      "34\n",
      "multiples of 5\n",
      "multiples of 3\n",
      "37\n",
      "38\n",
      "multiples of 3\n",
      "multiples of 5\n",
      "41\n",
      "multiples of 3\n",
      "43\n",
      "44\n",
      "multiples of 3\n",
      "46\n",
      "47\n",
      "multiples of 3\n",
      "49\n",
      "multiples of 5\n",
      "multiples of 3\n",
      "52\n",
      "53\n",
      "multiples of 3\n",
      "multiples of 5\n",
      "56\n",
      "multiples of 3\n",
      "58\n",
      "59\n",
      "multiples of 3\n",
      "61\n",
      "62\n",
      "multiples of 3\n",
      "64\n",
      "multiples of 5\n",
      "multiples of 3\n",
      "67\n",
      "68\n",
      "multiples of 3\n",
      "multiples of 5\n",
      "71\n",
      "multiples of 3\n",
      "73\n",
      "74\n",
      "multiples of 3\n",
      "76\n",
      "77\n",
      "multiples of 3\n",
      "79\n",
      "multiples of 5\n",
      "multiples of 3\n",
      "82\n",
      "83\n",
      "multiples of 3\n",
      "multiples of 5\n",
      "86\n",
      "multiples of 3\n",
      "88\n",
      "89\n",
      "multiples of 3\n",
      "91\n",
      "92\n",
      "multiples of 3\n",
      "94\n",
      "multiples of 5\n",
      "multiples of 3\n",
      "97\n",
      "98\n",
      "multiples of 3\n",
      "multiples of 5\n"
     ]
    }
   ],
   "source": [
    "for i in range (1, 101):\n",
    "    if(i%3==0):\n",
    "        print('multiples of 3') \n",
    "    elif(i%5==0):\n",
    "        print('multiples of 5')\n",
    "    elif((i%3 and i%5) == 0):\n",
    "        print('Multiples of 3 and 5')\n",
    "    else:\n",
    "        print(i)"
   ]
  },
  {
   "cell_type": "markdown",
   "metadata": {},
   "source": [
    "QUESTION2"
   ]
  },
  {
   "cell_type": "code",
   "execution_count": 15,
   "metadata": {},
   "outputs": [
    {
     "name": "stdout",
     "output_type": "stream",
     "text": [
      "5050\n"
     ]
    }
   ],
   "source": [
    "sum = 0\n",
    "for i in range(1, 101):\n",
    "    sum += i\n",
    "print(sum)"
   ]
  },
  {
   "cell_type": "code",
   "execution_count": null,
   "metadata": {},
   "outputs": [],
   "source": [
    "temp = int(input('What is the temperature? '))"
   ]
  }
 ],
 "metadata": {
  "kernelspec": {
   "display_name": "Python 3",
   "language": "python",
   "name": "python3"
  },
  "language_info": {
   "codemirror_mode": {
    "name": "ipython",
    "version": 3
   },
   "file_extension": ".py",
   "mimetype": "text/x-python",
   "name": "python",
   "nbconvert_exporter": "python",
   "pygments_lexer": "ipython3",
   "version": "3.7.3"
  }
 },
 "nbformat": 4,
 "nbformat_minor": 2
}
